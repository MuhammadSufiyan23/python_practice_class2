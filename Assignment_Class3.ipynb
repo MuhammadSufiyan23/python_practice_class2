{
  "nbformat": 4,
  "nbformat_minor": 0,
  "metadata": {
    "colab": {
      "provenance": [],
      "authorship_tag": "ABX9TyNMrTyW/lTLBedX08/PvqmJ",
      "include_colab_link": true
    },
    "kernelspec": {
      "name": "python3",
      "display_name": "Python 3"
    },
    "language_info": {
      "name": "python"
    }
  },
  "cells": [
    {
      "cell_type": "markdown",
      "metadata": {
        "id": "view-in-github",
        "colab_type": "text"
      },
      "source": [
        "<a href=\"https://colab.research.google.com/github/SufiyanSheikh0321/python_practice_class2/blob/main/Assignment_Class3.ipynb\" target=\"_parent\"><img src=\"https://colab.research.google.com/assets/colab-badge.svg\" alt=\"Open In Colab\"/></a>"
      ]
    },
    {
      "cell_type": "markdown",
      "source": [
        "**CLASS 3 ASSIGNMENT**"
      ],
      "metadata": {
        "id": "9qYQCre9hAOY"
      }
    },
    {
      "cell_type": "markdown",
      "source": [
        "## **UNPAKING**"
      ],
      "metadata": {
        "id": "ElfkMCGzdZq1"
      }
    },
    {
      "cell_type": "code",
      "execution_count": null,
      "metadata": {
        "colab": {
          "base_uri": "https://localhost:8080/"
        },
        "id": "cCfVVd9pg_ZG",
        "outputId": "3e7ab9db-11bc-4e7b-a80f-425ded0c366e"
      },
      "outputs": [
        {
          "output_type": "stream",
          "name": "stdout",
          "text": [
            "mango\n"
          ]
        }
      ],
      "source": [
        "# UNPAKING\n",
        "\n",
        "fruits = [\"apple\", \"mango\", \"banana\"]\n",
        "x,y,z = fruits\n",
        "\n",
        "print(y)"
      ]
    },
    {
      "cell_type": "markdown",
      "source": [
        "## **CONCATENATION**"
      ],
      "metadata": {
        "id": "8eN40-2ndfQE"
      }
    },
    {
      "cell_type": "code",
      "source": [
        "# CONCATENATION\n",
        "\n",
        "a = \"I\"\n",
        "b = \"Love\"\n",
        "c = \"Pakistan\"\n",
        "\n",
        "print(a+b+c)\n",
        "print(a,b,c)\n"
      ],
      "metadata": {
        "colab": {
          "base_uri": "https://localhost:8080/"
        },
        "id": "S0VAuNmChi6v",
        "outputId": "91f02c6b-7ab1-4f44-cb01-137486a42bed"
      },
      "execution_count": null,
      "outputs": [
        {
          "output_type": "stream",
          "name": "stdout",
          "text": [
            "ILovePakistan\n",
            "I Love Pakistan\n"
          ]
        }
      ]
    },
    {
      "cell_type": "markdown",
      "source": [
        "# **ESCAPE CHARACTERS**"
      ],
      "metadata": {
        "id": "O02p4FBadmyM"
      }
    },
    {
      "cell_type": "code",
      "source": [
        "# ESCAPE CHARACTERS\n",
        "\n",
        "txt = \"I am from \\\"Karachi\\\" \"  # Double quote\n",
        "print(txt)\n",
        "\n",
        "\n",
        "txta = \"I am from \\n Karachi \" # New line\n",
        "print(txta)\n",
        "\n",
        "\n",
        "txtb = \"I am from \\t Karachi \" # Horizontal tab\n",
        "print(txtb)\n",
        "\n",
        "\n",
        "txtc = \"I am \\r from Karachi \" # Carriage Return\n",
        "print(txtc)\n",
        "\n",
        "\n",
        "txtd = \"I am from \\\\ Karachi \" # Backslash\n",
        "print(txtd)\n",
        "\n"
      ],
      "metadata": {
        "colab": {
          "base_uri": "https://localhost:8080/"
        },
        "id": "aKLoeaiZifBX",
        "outputId": "cc1c740b-921f-4862-d890-03e2ed057d5d"
      },
      "execution_count": null,
      "outputs": [
        {
          "output_type": "stream",
          "name": "stdout",
          "text": [
            "I am from \"Karachi\" \n",
            "I am from \n",
            " Karachi \n",
            "I am from \t Karachi \n",
            "I am\rfrom Karachi \n",
            "I am from \\ Karachi \n"
          ]
        }
      ]
    },
    {
      "cell_type": "markdown",
      "source": [
        "# **NUMERIC TYPES**"
      ],
      "metadata": {
        "id": "YKZZ0aPidsvU"
      }
    },
    {
      "cell_type": "code",
      "source": [
        "# NUMERIC TYPES\n",
        "\n",
        "num1 = 10\n",
        "num2 = 20.5\n",
        "num3 = complex(1,5)\n",
        "\n",
        "print(type(num1))\n",
        "print(type(num2))\n",
        "print(type(num3))"
      ],
      "metadata": {
        "colab": {
          "base_uri": "https://localhost:8080/"
        },
        "id": "KIcUffwCm0_3",
        "outputId": "c4163439-d2ad-4455-eebf-23426edae733"
      },
      "execution_count": null,
      "outputs": [
        {
          "output_type": "stream",
          "name": "stdout",
          "text": [
            "<class 'int'>\n",
            "<class 'float'>\n",
            "<class 'complex'>\n"
          ]
        }
      ]
    },
    {
      "cell_type": "markdown",
      "source": [
        "# **TYPE CONVERSION**"
      ],
      "metadata": {
        "id": "rNOrQ0IieHrk"
      }
    },
    {
      "cell_type": "code",
      "source": [
        "# TYPE CONVERSION\n",
        "\n",
        "a = str(18)         # Integer convert String\n",
        "b = int('12')       # String convert Integer\n",
        "c = complex(10.4)   #float convert complex\n",
        "\n",
        "print(type(a))\n",
        "print(type(b))\n",
        "print(type(c))"
      ],
      "metadata": {
        "colab": {
          "base_uri": "https://localhost:8080/"
        },
        "id": "1vhH2APhrdfH",
        "outputId": "76168cd6-0a0d-4332-831e-af314d409ab8"
      },
      "execution_count": null,
      "outputs": [
        {
          "output_type": "stream",
          "name": "stdout",
          "text": [
            "<class 'str'>\n",
            "<class 'int'>\n",
            "<class 'complex'>\n"
          ]
        }
      ]
    },
    {
      "cell_type": "markdown",
      "source": [
        "# **MULTILINE STRING**"
      ],
      "metadata": {
        "id": "2LZWsvWJeLY0"
      }
    },
    {
      "cell_type": "code",
      "source": [
        "# MULTILINE STRING\n",
        "\n",
        "a = '''Hello\n",
        "World'''\n",
        "\n",
        "print(a)"
      ],
      "metadata": {
        "colab": {
          "base_uri": "https://localhost:8080/"
        },
        "id": "Ps66QvxBXCHc",
        "outputId": "1896f923-7ad4-4a80-bcd1-ed8e64f3f17c"
      },
      "execution_count": 3,
      "outputs": [
        {
          "output_type": "stream",
          "name": "stdout",
          "text": [
            "Hello\n",
            "World\n"
          ]
        }
      ]
    },
    {
      "cell_type": "markdown",
      "source": [
        "# **STRING LENGTH**"
      ],
      "metadata": {
        "id": "kS-dgg_ieW2M"
      }
    },
    {
      "cell_type": "code",
      "source": [
        "# STRING LENGTH\n",
        "\n",
        "print(len(a))"
      ],
      "metadata": {
        "colab": {
          "base_uri": "https://localhost:8080/"
        },
        "id": "UlFp9eMXZZgE",
        "outputId": "4b884eca-282f-43c2-9bfd-6af506d69d5d"
      },
      "execution_count": 4,
      "outputs": [
        {
          "output_type": "stream",
          "name": "stdout",
          "text": [
            "11\n"
          ]
        }
      ]
    },
    {
      "cell_type": "markdown",
      "source": [
        "# **STRING OPERATOR**"
      ],
      "metadata": {
        "id": "qPn23x9_eZtU"
      }
    },
    {
      "cell_type": "code",
      "source": [
        "# STRING OPERATOR\n",
        "\n",
        "x = \"Hello\\nHello\\tHello\"\n",
        "print(x)"
      ],
      "metadata": {
        "colab": {
          "base_uri": "https://localhost:8080/"
        },
        "id": "Hm2PDQ9vZx3j",
        "outputId": "c2f11b75-ee21-4ce8-aedd-ac44581ee467"
      },
      "execution_count": 6,
      "outputs": [
        {
          "output_type": "stream",
          "name": "stdout",
          "text": [
            "Hello\n",
            "Hello\tHello\n"
          ]
        }
      ]
    },
    {
      "cell_type": "markdown",
      "source": [
        "# **SLICING**"
      ],
      "metadata": {
        "id": "EszsMYsiecnc"
      }
    },
    {
      "cell_type": "code",
      "source": [
        "# SLICING\n",
        "\n",
        "fruit = \"I Love Mango\"\n",
        "\n",
        "print(fruit[0],fruit[11])\n",
        "print(len(fruit))\n",
        "print(fruit[0:6])\n",
        "print(fruit[:])"
      ],
      "metadata": {
        "colab": {
          "base_uri": "https://localhost:8080/"
        },
        "id": "eukLKvKFbCS9",
        "outputId": "7e79e5ba-dac9-4d21-f2a8-130e6c50b518"
      },
      "execution_count": 15,
      "outputs": [
        {
          "output_type": "stream",
          "name": "stdout",
          "text": [
            "I o\n",
            "12\n",
            "I Love\n",
            "I Love Mango\n"
          ]
        }
      ]
    }
  ]
}